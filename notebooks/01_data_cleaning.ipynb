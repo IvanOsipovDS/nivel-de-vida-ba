{
 "cells": [
  {
   "cell_type": "markdown",
   "metadata": {},
   "source": [
    "# Introduction"
   ]
  },
  {
   "cell_type": "markdown",
   "metadata": {},
   "source": [
    "This Data Science project explores socioeconomic conditions across neighborhoods in Buenos Aires using open geospatial and administrative datasets. Our goal is to classify areas by quality of life, infrastructure, and social indicators, and to present the results using interactive visualizations (e.g., Folium maps).\n"
   ]
  },
  {
   "cell_type": "markdown",
   "metadata": {},
   "source": [
    "In this notebook we will collect and transform data mainly retrieved from the official open data portal of Buenos Aires: [data.buenosaires.gob.ar](https://data.buenosaires.gob.ar/). \n",
    "\n",
    "\n",
    "We will use the following datasets:\n",
    "- delitos_2021, delitos_2022, delitos_2023 – crime data collected over three years\n",
    "- caba_pob_barrios_2010 – population census data per neighborhood\n",
    "- barrios – Location and geographical boundaries of the city's neighborhoods\n",
    "- establecimientos_educativos_WGS84 - Geographically referenced list of public and private educational institutions.\n",
    "- hospitales – Geolocated data on hospitals in the city\n",
    "- espacio_verde_publico - Geographic location of the green zones in the city\n",
    "- estaciones-de-subte – geographic dataset of subway stations in the city\n",
    "- https://de.wikipedia.org/wiki/Liste_der_informellen_Siedlungen_in_Buenos_Aires - presence of slum in the area of the city (Unofficial source)\n",
    "- mapa_de_ruido_diurno / mapa_de_ruido_nocturno – Noise level assessments (daytime & nighttime)"
   ]
  },
  {
   "cell_type": "markdown",
   "metadata": {},
   "source": [
    "**We will also transform raw data into meaningful features** describing neighborhoods.  \n",
    "These features will include:\n",
    "\n",
    "- Population and total area\n",
    "- Crime indicators (e.g., homicides, injuries, property crimes, threats)\n",
    "- Density of slum presence\n",
    "- Number of hospitals and subway stations\n",
    "- Noise levels (daytime and nighttime)\n",
    "- Number of educational institutions (private and state)\n",
    "- Number and area of green zones (total and with recreational facilities)\n",
    "- Share of green zones relative to neighborhood area"
   ]
  },
  {
   "cell_type": "markdown",
   "metadata": {},
   "source": [
    "# Data Collection & Exploration"
   ]
  },
  {
   "cell_type": "markdown",
   "metadata": {},
   "source": [
    "## 1. Crimes Data"
   ]
  },
  {
   "cell_type": "markdown",
   "metadata": {},
   "source": [
    "### 1.1 Data Loading"
   ]
  },
  {
   "cell_type": "code",
   "execution_count": 521,
   "metadata": {},
   "outputs": [],
   "source": [
    "import pandas as pd\n",
    "\n",
    "df_crimes_2023 = pd.read_csv('../data/delitos_2023.csv', sep=';')\n",
    "df_crimes_2022 = pd.read_csv('../data/delitos_2022.csv', sep=',')\n",
    "df_crimes_2021 = pd.read_excel('../data/delitos_2021.xlsx')"
   ]
  },
  {
   "cell_type": "code",
   "execution_count": 522,
   "metadata": {},
   "outputs": [],
   "source": [
    "# Deleting unique indexs from crime datasets\n",
    "df_crimes_2021 = df_crimes_2021.drop(columns={'id-mapa'})\n",
    "df_crimes_2022 = df_crimes_2022.drop(columns={'id-mapa'})\n",
    "df_crimes_2023 = df_crimes_2023.drop(columns={'id-sum'})"
   ]
  },
  {
   "cell_type": "code",
   "execution_count": 523,
   "metadata": {},
   "outputs": [
    {
     "name": "stdout",
     "output_type": "stream",
     "text": [
      "<class 'pandas.core.frame.DataFrame'>\n",
      "RangeIndex: 410341 entries, 0 to 410340\n",
      "Data columns (total 14 columns):\n",
      " #   Column    Non-Null Count   Dtype  \n",
      "---  ------    --------------   -----  \n",
      " 0   anio      410341 non-null  int64  \n",
      " 1   mes       410341 non-null  object \n",
      " 2   dia       410341 non-null  object \n",
      " 3   fecha     410341 non-null  object \n",
      " 4   franja    408554 non-null  float64\n",
      " 5   tipo      410341 non-null  object \n",
      " 6   subtipo   410341 non-null  object \n",
      " 7   uso_arma  410341 non-null  object \n",
      " 8   uso_moto  410341 non-null  object \n",
      " 9   barrio    404684 non-null  object \n",
      " 10  comuna    404698 non-null  object \n",
      " 11  latitud   402558 non-null  object \n",
      " 12  longitud  402558 non-null  object \n",
      " 13  cantidad  410341 non-null  int64  \n",
      "dtypes: float64(1), int64(2), object(11)\n",
      "memory usage: 43.8+ MB\n"
     ]
    }
   ],
   "source": [
    "crimes_total = pd.concat([df_crimes_2021, df_crimes_2022, df_crimes_2023], ignore_index=True)\n",
    "crimes_total.info()"
   ]
  },
  {
   "cell_type": "markdown",
   "metadata": {},
   "source": [
    "### 1.2 Data Cleaning"
   ]
  },
  {
   "cell_type": "code",
   "execution_count": 524,
   "metadata": {},
   "outputs": [],
   "source": [
    "crimes_total.drop(columns={'comuna'})\n",
    "crimes_total.rename(columns={\n",
    "    'anio' : 'year',\n",
    "    'mes'  : 'month',\n",
    "    'dia'  : 'day_of_week',\n",
    "    'fecha': 'date',\n",
    "    'franja': 'hour',\n",
    "    'tipo'    : 'crime_type',\n",
    "    'subtipo' : 'crime_subtype',\n",
    "    'uso_arma' : 'using_arm',\n",
    "    'uso_moto' : 'using_motorbike',\n",
    "    'barrio': 'neighborhood',\n",
    "    'latitud': 'latitude',\n",
    "    'longitud': 'longitude',\n",
    "    'cantidad' : 'amount'\n",
    "}, inplace=True)"
   ]
  },
  {
   "cell_type": "code",
   "execution_count": 525,
   "metadata": {},
   "outputs": [],
   "source": [
    "crimes_total['date'] = pd.to_datetime(crimes_total['date'])\n",
    "crimes_total['month'] = crimes_total['date'].dt.month\n",
    "crimes_total['day_of_week'] = crimes_total['date'].dt.day_of_week"
   ]
  },
  {
   "cell_type": "code",
   "execution_count": 526,
   "metadata": {},
   "outputs": [],
   "source": [
    "bin_format = {'NO': 0, 'SI': 1}\n",
    "crimes_total['using_arm'] = crimes_total['using_arm'].map(bin_format)\n",
    "crimes_total['using_motorbike'] = crimes_total['using_motorbike'].map(bin_format)"
   ]
  },
  {
   "cell_type": "code",
   "execution_count": 527,
   "metadata": {},
   "outputs": [
    {
     "data": {
      "text/plain": [
       "array(['Hurto total', 'Robo total', 'Hurto automotor', 'Robo automotor',\n",
       "       'Lesiones por siniestros viales', 'Homicidios dolosos',\n",
       "       'Femicidios', 'Lesiones Dolosas', 'Amenazas',\n",
       "       'Muertes por siniestros viales', 'Homicidio Doloso'], dtype=object)"
      ]
     },
     "execution_count": 527,
     "metadata": {},
     "output_type": "execute_result"
    }
   ],
   "source": [
    "crimes_total['crime_subtype'].unique()"
   ]
  },
  {
   "cell_type": "code",
   "execution_count": 528,
   "metadata": {},
   "outputs": [],
   "source": [
    "subcategory_translation = {\n",
    "    'Hurto total': 'Total Theft',\n",
    "    'Robo total': 'Total Robbery',\n",
    "    'Hurto automotor': 'Vehicle Theft',\n",
    "    'Robo automotor': 'Vehicle Robbery',\n",
    "    'Lesiones por siniestros viales': 'Injuries from Traffic Accidents',\n",
    "    'Homicidios dolosos': 'Intentional Homicides',\n",
    "    'Femicidios': 'Femicides',\n",
    "    'Lesiones Dolosas': 'Intentional Injuries',\n",
    "    'Amenazas': 'Threats',\n",
    "    'Muertes por siniestros viales': 'Deaths from Traffic Accidents',\n",
    "    'Homicidio Doloso': 'Intentional Homicide'\n",
    "}\n",
    "\n",
    "crimes_total['crime_subtype'] = crimes_total['crime_subtype'].map(subcategory_translation)"
   ]
  },
  {
   "cell_type": "code",
   "execution_count": 529,
   "metadata": {},
   "outputs": [
    {
     "data": {
      "text/plain": [
       "array(['Hurto', 'Robo', 'Vialidad', 'Homicidios', 'Lesiones', 'Amenazas'],\n",
       "      dtype=object)"
      ]
     },
     "execution_count": 529,
     "metadata": {},
     "output_type": "execute_result"
    }
   ],
   "source": [
    "crimes_total['crime_type'].unique()"
   ]
  },
  {
   "cell_type": "code",
   "execution_count": 530,
   "metadata": {},
   "outputs": [],
   "source": [
    "category_translation = {\n",
    "    'Hurto': 'Theft',\n",
    "    'Robo': 'Robbery',\n",
    "    'Vialidad': 'Traffic Incidents',\n",
    "    'Homicidios': 'Homicides',\n",
    "    'Lesiones': 'Injuries',\n",
    "    'Amenazas': 'Threats'\n",
    "}\n",
    "\n",
    "crimes_total['crime_type'] = crimes_total['crime_type'].map(category_translation)"
   ]
  },
  {
   "cell_type": "code",
   "execution_count": 531,
   "metadata": {},
   "outputs": [
    {
     "data": {
      "text/plain": [
       "year                  0\n",
       "month                 0\n",
       "day_of_week           0\n",
       "date                  0\n",
       "hour               1787\n",
       "crime_type            0\n",
       "crime_subtype         0\n",
       "using_arm             0\n",
       "using_motorbike       0\n",
       "neighborhood       5657\n",
       "comuna             5643\n",
       "latitude           7783\n",
       "longitude          7783\n",
       "amount                0\n",
       "dtype: int64"
      ]
     },
     "execution_count": 531,
     "metadata": {},
     "output_type": "execute_result"
    }
   ],
   "source": [
    "crimes_total.isnull().sum()"
   ]
  },
  {
   "cell_type": "code",
   "execution_count": 532,
   "metadata": {},
   "outputs": [],
   "source": [
    "crimes_total = crimes_total.dropna(subset=['latitude', 'neighborhood'], how='all')"
   ]
  },
  {
   "cell_type": "code",
   "execution_count": 533,
   "metadata": {},
   "outputs": [
    {
     "name": "stdout",
     "output_type": "stream",
     "text": [
      "<class 'pandas.core.frame.DataFrame'>\n",
      "Index: 404641 entries, 0 to 410340\n",
      "Data columns (total 14 columns):\n",
      " #   Column           Non-Null Count   Dtype         \n",
      "---  ------           --------------   -----         \n",
      " 0   year             404641 non-null  int64         \n",
      " 1   month            404641 non-null  int32         \n",
      " 2   day_of_week      404641 non-null  int32         \n",
      " 3   date             404641 non-null  datetime64[ns]\n",
      " 4   hour             403144 non-null  float64       \n",
      " 5   crime_type       404641 non-null  object        \n",
      " 6   crime_subtype    404641 non-null  object        \n",
      " 7   using_arm        404641 non-null  int64         \n",
      " 8   using_motorbike  404641 non-null  int64         \n",
      " 9   neighborhood     404336 non-null  object        \n",
      " 10  comuna           404344 non-null  object        \n",
      " 11  latitude         402558 non-null  object        \n",
      " 12  longitude        402558 non-null  object        \n",
      " 13  amount           404641 non-null  int64         \n",
      "dtypes: datetime64[ns](1), float64(1), int32(2), int64(4), object(6)\n",
      "memory usage: 43.2+ MB\n"
     ]
    }
   ],
   "source": [
    "crimes_total = crimes_total[\n",
    "    ~((crimes_total['neighborhood'] == \"Sin geo\") & (crimes_total['latitude'].isna()))\n",
    "]\n",
    "crimes_total.info()"
   ]
  },
  {
   "cell_type": "code",
   "execution_count": 534,
   "metadata": {},
   "outputs": [
    {
     "data": {
      "text/plain": [
       "year                  0\n",
       "month                 0\n",
       "day_of_week           0\n",
       "date                  0\n",
       "hour               1497\n",
       "crime_type            0\n",
       "crime_subtype         0\n",
       "using_arm             0\n",
       "using_motorbike       0\n",
       "neighborhood        305\n",
       "comuna              297\n",
       "latitude           2083\n",
       "longitude          2083\n",
       "amount                0\n",
       "dtype: int64"
      ]
     },
     "execution_count": 534,
     "metadata": {},
     "output_type": "execute_result"
    }
   ],
   "source": [
    "crimes_total.isnull().sum()"
   ]
  },
  {
   "cell_type": "markdown",
   "metadata": {},
   "source": [
    "## 2. Population Data"
   ]
  },
  {
   "cell_type": "code",
   "execution_count": 535,
   "metadata": {},
   "outputs": [
    {
     "data": {
      "text/html": [
       "<div>\n",
       "<style scoped>\n",
       "    .dataframe tbody tr th:only-of-type {\n",
       "        vertical-align: middle;\n",
       "    }\n",
       "\n",
       "    .dataframe tbody tr th {\n",
       "        vertical-align: top;\n",
       "    }\n",
       "\n",
       "    .dataframe thead th {\n",
       "        text-align: right;\n",
       "    }\n",
       "</style>\n",
       "<table border=\"1\" class=\"dataframe\">\n",
       "  <thead>\n",
       "    <tr style=\"text-align: right;\">\n",
       "      <th></th>\n",
       "      <th>BARRIO</th>\n",
       "      <th>POBLACION</th>\n",
       "    </tr>\n",
       "  </thead>\n",
       "  <tbody>\n",
       "    <tr>\n",
       "      <th>0</th>\n",
       "      <td>AGRONOMIA</td>\n",
       "      <td>13912</td>\n",
       "    </tr>\n",
       "    <tr>\n",
       "      <th>1</th>\n",
       "      <td>ALMAGRO</td>\n",
       "      <td>131699</td>\n",
       "    </tr>\n",
       "    <tr>\n",
       "      <th>2</th>\n",
       "      <td>BALVANERA</td>\n",
       "      <td>138926</td>\n",
       "    </tr>\n",
       "  </tbody>\n",
       "</table>\n",
       "</div>"
      ],
      "text/plain": [
       "      BARRIO  POBLACION\n",
       "0  AGRONOMIA      13912\n",
       "1    ALMAGRO     131699\n",
       "2  BALVANERA     138926"
      ]
     },
     "execution_count": 535,
     "metadata": {},
     "output_type": "execute_result"
    }
   ],
   "source": [
    "df_population = pd.read_csv('../data/caba_pob_barrios_2010.csv', sep=',')\n",
    "df_population.head(3)"
   ]
  },
  {
   "cell_type": "code",
   "execution_count": 536,
   "metadata": {},
   "outputs": [
    {
     "data": {
      "text/plain": [
       "48"
      ]
     },
     "execution_count": 536,
     "metadata": {},
     "output_type": "execute_result"
    }
   ],
   "source": [
    "df_population['BARRIO'].nunique()"
   ]
  },
  {
   "cell_type": "code",
   "execution_count": 537,
   "metadata": {},
   "outputs": [],
   "source": [
    "df_population.rename(columns={\n",
    "    'BARRIO': 'neighborhood',\n",
    "    'POBLACION' : 'population'\n",
    "}, inplace=True)"
   ]
  },
  {
   "cell_type": "markdown",
   "metadata": {},
   "source": [
    "## 3. Location and Geographical Boundaries of the City's Neighborhoods."
   ]
  },
  {
   "cell_type": "code",
   "execution_count": 541,
   "metadata": {},
   "outputs": [
    {
     "data": {
      "text/html": [
       "<div>\n",
       "<style scoped>\n",
       "    .dataframe tbody tr th:only-of-type {\n",
       "        vertical-align: middle;\n",
       "    }\n",
       "\n",
       "    .dataframe tbody tr th {\n",
       "        vertical-align: top;\n",
       "    }\n",
       "\n",
       "    .dataframe thead th {\n",
       "        text-align: right;\n",
       "    }\n",
       "</style>\n",
       "<table border=\"1\" class=\"dataframe\">\n",
       "  <thead>\n",
       "    <tr style=\"text-align: right;\">\n",
       "      <th></th>\n",
       "      <th>id</th>\n",
       "      <th>objeto</th>\n",
       "      <th>nombre</th>\n",
       "      <th>comuna</th>\n",
       "      <th>perimetro_</th>\n",
       "      <th>area_metro</th>\n",
       "      <th>geometry</th>\n",
       "    </tr>\n",
       "  </thead>\n",
       "  <tbody>\n",
       "    <tr>\n",
       "      <th>0</th>\n",
       "      <td>1</td>\n",
       "      <td>BARRIO</td>\n",
       "      <td>Agronomia</td>\n",
       "      <td>15</td>\n",
       "      <td>6556.17</td>\n",
       "      <td>2122169.34</td>\n",
       "      <td>POLYGON ((-58.475888981732986 -34.591723461272...</td>\n",
       "    </tr>\n",
       "    <tr>\n",
       "      <th>1</th>\n",
       "      <td>2</td>\n",
       "      <td>BARRIO</td>\n",
       "      <td>Almagro</td>\n",
       "      <td>5</td>\n",
       "      <td>8537.90</td>\n",
       "      <td>4050752.25</td>\n",
       "      <td>POLYGON ((-58.416002854915654 -34.597854231564...</td>\n",
       "    </tr>\n",
       "    <tr>\n",
       "      <th>2</th>\n",
       "      <td>3</td>\n",
       "      <td>BARRIO</td>\n",
       "      <td>Balvanera</td>\n",
       "      <td>3</td>\n",
       "      <td>8375.82</td>\n",
       "      <td>4342280.27</td>\n",
       "      <td>POLYGON ((-58.392934155259674 -34.599636447011...</td>\n",
       "    </tr>\n",
       "  </tbody>\n",
       "</table>\n",
       "</div>"
      ],
      "text/plain": [
       "   id  objeto     nombre  comuna  perimetro_  area_metro  \\\n",
       "0   1  BARRIO  Agronomia      15     6556.17  2122169.34   \n",
       "1   2  BARRIO    Almagro       5     8537.90  4050752.25   \n",
       "2   3  BARRIO  Balvanera       3     8375.82  4342280.27   \n",
       "\n",
       "                                            geometry  \n",
       "0  POLYGON ((-58.475888981732986 -34.591723461272...  \n",
       "1  POLYGON ((-58.416002854915654 -34.597854231564...  \n",
       "2  POLYGON ((-58.392934155259674 -34.599636447011...  "
      ]
     },
     "execution_count": 541,
     "metadata": {},
     "output_type": "execute_result"
    }
   ],
   "source": [
    "df_neighborhood = pd.read_csv('../data/barrios.csv', sep=',')\n",
    "\n",
    "df_neighborhood.head(3)"
   ]
  },
  {
   "cell_type": "code",
   "execution_count": 542,
   "metadata": {},
   "outputs": [
    {
     "data": {
      "text/html": [
       "<div>\n",
       "<style scoped>\n",
       "    .dataframe tbody tr th:only-of-type {\n",
       "        vertical-align: middle;\n",
       "    }\n",
       "\n",
       "    .dataframe tbody tr th {\n",
       "        vertical-align: top;\n",
       "    }\n",
       "\n",
       "    .dataframe thead th {\n",
       "        text-align: right;\n",
       "    }\n",
       "</style>\n",
       "<table border=\"1\" class=\"dataframe\">\n",
       "  <thead>\n",
       "    <tr style=\"text-align: right;\">\n",
       "      <th></th>\n",
       "      <th>neighborhood</th>\n",
       "      <th>commune</th>\n",
       "      <th>perimeter_neib</th>\n",
       "      <th>area_neib</th>\n",
       "      <th>geometry</th>\n",
       "    </tr>\n",
       "  </thead>\n",
       "  <tbody>\n",
       "    <tr>\n",
       "      <th>0</th>\n",
       "      <td>Agronomia</td>\n",
       "      <td>15</td>\n",
       "      <td>6556.17</td>\n",
       "      <td>2122169.34</td>\n",
       "      <td>POLYGON ((-58.475888981732986 -34.591723461272...</td>\n",
       "    </tr>\n",
       "    <tr>\n",
       "      <th>1</th>\n",
       "      <td>Almagro</td>\n",
       "      <td>5</td>\n",
       "      <td>8537.90</td>\n",
       "      <td>4050752.25</td>\n",
       "      <td>POLYGON ((-58.416002854915654 -34.597854231564...</td>\n",
       "    </tr>\n",
       "    <tr>\n",
       "      <th>2</th>\n",
       "      <td>Balvanera</td>\n",
       "      <td>3</td>\n",
       "      <td>8375.82</td>\n",
       "      <td>4342280.27</td>\n",
       "      <td>POLYGON ((-58.392934155259674 -34.599636447011...</td>\n",
       "    </tr>\n",
       "  </tbody>\n",
       "</table>\n",
       "</div>"
      ],
      "text/plain": [
       "  neighborhood  commune  perimeter_neib   area_neib  \\\n",
       "0    Agronomia       15         6556.17  2122169.34   \n",
       "1      Almagro        5         8537.90  4050752.25   \n",
       "2    Balvanera        3         8375.82  4342280.27   \n",
       "\n",
       "                                            geometry  \n",
       "0  POLYGON ((-58.475888981732986 -34.591723461272...  \n",
       "1  POLYGON ((-58.416002854915654 -34.597854231564...  \n",
       "2  POLYGON ((-58.392934155259674 -34.599636447011...  "
      ]
     },
     "execution_count": 542,
     "metadata": {},
     "output_type": "execute_result"
    }
   ],
   "source": [
    "df_neighborhood = df_neighborhood.drop(columns={'objeto', 'id'})\n",
    "df_neighborhood.rename(columns={\n",
    "    'nombre': 'neighborhood',\n",
    "    'comuna' : 'commune',\n",
    "    'perimetro_' : 'perimeter_neib',\n",
    "    'area_metro' : 'area_neib'\n",
    "}, inplace=True)\n",
    "df_neighborhood.head(3)"
   ]
  },
  {
   "cell_type": "code",
   "execution_count": 543,
   "metadata": {},
   "outputs": [],
   "source": [
    "df_neighborhood['neighborhood'] = df_neighborhood['neighborhood'].str.upper()"
   ]
  },
  {
   "cell_type": "markdown",
   "metadata": {},
   "source": [
    "## 4. Educational Institutions Data"
   ]
  },
  {
   "cell_type": "markdown",
   "metadata": {},
   "source": [
    "### 4.1 Data Loading"
   ]
  },
  {
   "cell_type": "code",
   "execution_count": 544,
   "metadata": {},
   "outputs": [],
   "source": [
    "df_education = pd.read_csv('../data/establecimientos_educativos_WGS84.csv', sep=';')"
   ]
  },
  {
   "cell_type": "markdown",
   "metadata": {},
   "source": [
    "### 4.2 Data preparation"
   ]
  },
  {
   "cell_type": "code",
   "execution_count": 545,
   "metadata": {},
   "outputs": [],
   "source": [
    "df_education = df_education.drop(columns={'id', 'cui', 'cueanexo', 'cue', 'anexo', 'telefono', 'email', 'codpost', 'estado',\n",
    "                           'web_megcba', 'nombre_est', 'area_progr', 'de', 'dom_edific', 'dom_establ', 'depfun', 'depfun_otr',\n",
    "                           'nivel', 'nivelmodal', 'Unnamed: 29', 'Unnamed: 30', 'longitud', 'latitud'})"
   ]
  },
  {
   "cell_type": "code",
   "execution_count": 546,
   "metadata": {},
   "outputs": [],
   "source": [
    "import re\n",
    "\n",
    "def extract_coords(geom_str):\n",
    "    match = re.search(r'\\(\\((-?\\d+\\.\\d+)\\s+(-?\\d+\\.\\d+)\\)\\)', geom_str)\n",
    "    if match:\n",
    "        lon = float(match.group(1))\n",
    "        lat = float(match.group(2))\n",
    "        return lon, lat\n",
    "    return None, None\n",
    "\n",
    "df_education[['institution_long', 'institution_lat']] = df_education['WKT'].apply(\n",
    "    lambda s: pd.Series(extract_coords(s))\n",
    ")\n",
    "df_education = df_education.drop(columns={'WKT', 'tipest', 'tipest_abr', 'comuna'})"
   ]
  },
  {
   "cell_type": "code",
   "execution_count": 547,
   "metadata": {},
   "outputs": [
    {
     "name": "stdout",
     "output_type": "stream",
     "text": [
      "<class 'pandas.core.frame.DataFrame'>\n",
      "RangeIndex: 3045 entries, 0 to 3044\n",
      "Data columns (total 6 columns):\n",
      " #   Column             Non-Null Count  Dtype  \n",
      "---  ------             --------------  -----  \n",
      " 0   sector             3045 non-null   int64  \n",
      " 1   institution_name   3045 non-null   object \n",
      " 2   institution_level  3044 non-null   object \n",
      " 3   neighborhood       3044 non-null   object \n",
      " 4   institution_long   3042 non-null   float64\n",
      " 5   institution_lat    3042 non-null   float64\n",
      "dtypes: float64(2), int64(1), object(3)\n",
      "memory usage: 142.9+ KB\n"
     ]
    }
   ],
   "source": [
    "df_education.rename(columns={\n",
    "    'barrio': 'neighborhood',\n",
    "    'nivmod' : 'institution_level',\n",
    "    'nombre_abr' : 'institution_name'\n",
    "}, inplace=True)\n",
    "\n",
    "df_education['neighborhood'] = df_education['neighborhood'].str.upper()\n",
    "df_education.info()"
   ]
  },
  {
   "cell_type": "code",
   "execution_count": 549,
   "metadata": {},
   "outputs": [
    {
     "data": {
      "text/html": [
       "<div>\n",
       "<style scoped>\n",
       "    .dataframe tbody tr th:only-of-type {\n",
       "        vertical-align: middle;\n",
       "    }\n",
       "\n",
       "    .dataframe tbody tr th {\n",
       "        vertical-align: top;\n",
       "    }\n",
       "\n",
       "    .dataframe thead th {\n",
       "        text-align: right;\n",
       "    }\n",
       "</style>\n",
       "<table border=\"1\" class=\"dataframe\">\n",
       "  <thead>\n",
       "    <tr style=\"text-align: right;\">\n",
       "      <th></th>\n",
       "      <th>sector</th>\n",
       "      <th>institution_name</th>\n",
       "      <th>institution_level</th>\n",
       "      <th>neighborhood</th>\n",
       "      <th>institution_long</th>\n",
       "      <th>institution_lat</th>\n",
       "    </tr>\n",
       "  </thead>\n",
       "  <tbody>\n",
       "    <tr>\n",
       "      <th>0</th>\n",
       "      <td>1</td>\n",
       "      <td>EPjs 09</td>\n",
       "      <td>PriCom</td>\n",
       "      <td>VILLA SOLDATI</td>\n",
       "      <td>-58.428063</td>\n",
       "      <td>-34.660773</td>\n",
       "    </tr>\n",
       "    <tr>\n",
       "      <th>1</th>\n",
       "      <td>1</td>\n",
       "      <td>EI 06/19</td>\n",
       "      <td>IniCom</td>\n",
       "      <td>FLORES</td>\n",
       "      <td>-58.432877</td>\n",
       "      <td>-34.648141</td>\n",
       "    </tr>\n",
       "    <tr>\n",
       "      <th>2</th>\n",
       "      <td>1</td>\n",
       "      <td>EPjs 16</td>\n",
       "      <td>PriCom</td>\n",
       "      <td>PALERMO</td>\n",
       "      <td>-58.408777</td>\n",
       "      <td>-34.585651</td>\n",
       "    </tr>\n",
       "  </tbody>\n",
       "</table>\n",
       "</div>"
      ],
      "text/plain": [
       "   sector institution_name institution_level   neighborhood  institution_long  \\\n",
       "0       1          EPjs 09            PriCom  VILLA SOLDATI        -58.428063   \n",
       "1       1         EI 06/19            IniCom         FLORES        -58.432877   \n",
       "2       1          EPjs 16            PriCom        PALERMO        -58.408777   \n",
       "\n",
       "   institution_lat  \n",
       "0       -34.660773  \n",
       "1       -34.648141  \n",
       "2       -34.585651  "
      ]
     },
     "execution_count": 549,
     "metadata": {},
     "output_type": "execute_result"
    }
   ],
   "source": [
    "df_education = df_education.dropna(subset=['institution_lat', 'neighborhood'], how='all')\n",
    "df_education.head(3)"
   ]
  },
  {
   "cell_type": "markdown",
   "metadata": {},
   "source": [
    "## 5. Hospitals Data."
   ]
  },
  {
   "cell_type": "code",
   "execution_count": 550,
   "metadata": {},
   "outputs": [],
   "source": [
    "df_hospitals = pd.read_csv('../data/hospitales.csv', sep=',')"
   ]
  },
  {
   "cell_type": "code",
   "execution_count": 551,
   "metadata": {},
   "outputs": [],
   "source": [
    "df_hospitals = df_hospitals.drop(columns={'tel', 'com', 'fax', 'web', 'nam', 'esp', 'dir', 'gna', 'ate', 'sag', 'geometry', 'fna'})"
   ]
  },
  {
   "cell_type": "code",
   "execution_count": 552,
   "metadata": {},
   "outputs": [
    {
     "data": {
      "text/html": [
       "<div>\n",
       "<style scoped>\n",
       "    .dataframe tbody tr th:only-of-type {\n",
       "        vertical-align: middle;\n",
       "    }\n",
       "\n",
       "    .dataframe tbody tr th {\n",
       "        vertical-align: top;\n",
       "    }\n",
       "\n",
       "    .dataframe thead th {\n",
       "        text-align: right;\n",
       "    }\n",
       "</style>\n",
       "<table border=\"1\" class=\"dataframe\">\n",
       "  <thead>\n",
       "    <tr style=\"text-align: right;\">\n",
       "      <th></th>\n",
       "      <th>neighborhood</th>\n",
       "      <th>amount_of_hospitals</th>\n",
       "    </tr>\n",
       "  </thead>\n",
       "  <tbody>\n",
       "    <tr>\n",
       "      <th>0</th>\n",
       "      <td>ALMAGRO</td>\n",
       "      <td>1</td>\n",
       "    </tr>\n",
       "    <tr>\n",
       "      <th>1</th>\n",
       "      <td>BALVANERA</td>\n",
       "      <td>1</td>\n",
       "    </tr>\n",
       "    <tr>\n",
       "      <th>2</th>\n",
       "      <td>BARRACAS</td>\n",
       "      <td>6</td>\n",
       "    </tr>\n",
       "  </tbody>\n",
       "</table>\n",
       "</div>"
      ],
      "text/plain": [
       "  neighborhood  amount_of_hospitals\n",
       "0      ALMAGRO                    1\n",
       "1    BALVANERA                    1\n",
       "2     BARRACAS                    6"
      ]
     },
     "execution_count": 552,
     "metadata": {},
     "output_type": "execute_result"
    }
   ],
   "source": [
    "df_hospitals.rename(columns={\n",
    "    'bar': 'neighborhood',\n",
    "    'gna_sym' : 'hospital_type'\n",
    "}, inplace=True)\n",
    "\n",
    "df_hospitals['neighborhood'] = df_hospitals['neighborhood'].str.upper()\n",
    "df_hospitals = df_hospitals.groupby(['neighborhood'], as_index=False)['hospital_type'].count()\n",
    "df_hospitals.rename(columns={'hospital_type': 'amount_of_hospitals'}, inplace=True)\n",
    "df_hospitals.head(3)"
   ]
  },
  {
   "cell_type": "markdown",
   "metadata": {},
   "source": [
    "## 6. Green Zones Data"
   ]
  },
  {
   "cell_type": "code",
   "execution_count": 553,
   "metadata": {},
   "outputs": [],
   "source": [
    "df_green_spase = pd.read_csv('../data/espacio_verde_publico.csv', sep=',')"
   ]
  },
  {
   "cell_type": "code",
   "execution_count": 554,
   "metadata": {},
   "outputs": [],
   "source": [
    "df_green_spase = df_green_spase.drop(columns={'nombre', 'nom_mapa', 'ubicacion', 'clasificac', 'apadrinada', 'decreto', 'fecha_decr', 'ordenanza_', \n",
    "                                              'fecha_orde', 'boletin_of', 'fecha_bole', 'observacio'})\n",
    "\n",
    "df_green_spase.rename(columns={\n",
    "    'barrio': 'neighborhood',\n",
    "    'comuna' : 'commune',\n",
    "    'perimetro' : 'zone_perimeter',\n",
    "    'area' : 'zone_area'\n",
    "}, inplace=True)\n",
    "\n",
    "df_green_spase['neighborhood'] = df_green_spase['neighborhood'].str.upper()"
   ]
  },
  {
   "cell_type": "code",
   "execution_count": 555,
   "metadata": {},
   "outputs": [],
   "source": [
    "df_green_spase['tiene_pati'] = df_green_spase['tiene_pati'].map(bin_format)"
   ]
  },
  {
   "cell_type": "code",
   "execution_count": 556,
   "metadata": {},
   "outputs": [
    {
     "name": "stdout",
     "output_type": "stream",
     "text": [
      "<class 'pandas.core.frame.DataFrame'>\n",
      "RangeIndex: 2144 entries, 0 to 2143\n",
      "Data columns (total 7 columns):\n",
      " #   Column          Non-Null Count  Dtype  \n",
      "---  ------          --------------  -----  \n",
      " 0   id              2144 non-null   int64  \n",
      " 1   neighborhood    2144 non-null   object \n",
      " 2   commune         2144 non-null   int64  \n",
      " 3   tiene_pati      2124 non-null   float64\n",
      " 4   zone_area       2144 non-null   float64\n",
      " 5   zone_perimeter  2144 non-null   float64\n",
      " 6   geometry        2144 non-null   object \n",
      "dtypes: float64(3), int64(2), object(2)\n",
      "memory usage: 117.4+ KB\n"
     ]
    }
   ],
   "source": [
    "df_green_spase.info()"
   ]
  },
  {
   "cell_type": "markdown",
   "metadata": {},
   "source": [
    "## 7. Subway Data"
   ]
  },
  {
   "cell_type": "code",
   "execution_count": 557,
   "metadata": {},
   "outputs": [],
   "source": [
    "df_subway = pd.read_excel('../data/estaciones-de-subte.xlsx')"
   ]
  },
  {
   "cell_type": "code",
   "execution_count": 558,
   "metadata": {},
   "outputs": [],
   "source": [
    "df_subway.rename(columns={\n",
    "    'long': 'long_station',\n",
    "    'lat' : 'lat_station',\n",
    "    'linea' : 'line',\n",
    "    'estacion' : 'station'\n",
    "}, inplace=True)"
   ]
  },
  {
   "cell_type": "code",
   "execution_count": 379,
   "metadata": {},
   "outputs": [
    {
     "name": "stdout",
     "output_type": "stream",
     "text": [
      "<class 'pandas.core.frame.DataFrame'>\n",
      "RangeIndex: 90 entries, 0 to 89\n",
      "Data columns (total 5 columns):\n",
      " #   Column        Non-Null Count  Dtype  \n",
      "---  ------        --------------  -----  \n",
      " 0   long_station  90 non-null     float64\n",
      " 1   lat_station   90 non-null     float64\n",
      " 2   id            90 non-null     int64  \n",
      " 3   station       90 non-null     object \n",
      " 4   line          90 non-null     object \n",
      "dtypes: float64(2), int64(1), object(2)\n",
      "memory usage: 3.6+ KB\n"
     ]
    }
   ],
   "source": [
    "df_subway.info()"
   ]
  },
  {
   "cell_type": "markdown",
   "metadata": {},
   "source": [
    "## 8. Presence of slums in the area of ​​the city"
   ]
  },
  {
   "cell_type": "code",
   "execution_count": 560,
   "metadata": {},
   "outputs": [
    {
     "data": {
      "text/html": [
       "<div>\n",
       "<style scoped>\n",
       "    .dataframe tbody tr th:only-of-type {\n",
       "        vertical-align: middle;\n",
       "    }\n",
       "\n",
       "    .dataframe tbody tr th {\n",
       "        vertical-align: top;\n",
       "    }\n",
       "\n",
       "    .dataframe thead th {\n",
       "        text-align: right;\n",
       "    }\n",
       "</style>\n",
       "<table border=\"1\" class=\"dataframe\">\n",
       "  <thead>\n",
       "    <tr style=\"text-align: right;\">\n",
       "      <th></th>\n",
       "      <th>Name</th>\n",
       "      <th>Begrenzung</th>\n",
       "      <th>Stadtteil</th>\n",
       "    </tr>\n",
       "  </thead>\n",
       "  <tbody>\n",
       "    <tr>\n",
       "      <th>0</th>\n",
       "      <td>Bajo AU7</td>\n",
       "      <td>Parque de La Ciudad, Avenida Roca, Avenida Lac...</td>\n",
       "      <td>Villa Soldati</td>\n",
       "    </tr>\n",
       "    <tr>\n",
       "      <th>1</th>\n",
       "      <td>Calacita</td>\n",
       "      <td>Barros Pazos, Lacarra, B.y Ordoñez, Laguna</td>\n",
       "      <td>Villa Soldati</td>\n",
       "    </tr>\n",
       "    <tr>\n",
       "      <th>2</th>\n",
       "      <td>Carrilo 2</td>\n",
       "      <td>Mariano Acosta, Castañares, Lacarra</td>\n",
       "      <td>Villa Soldati</td>\n",
       "    </tr>\n",
       "    <tr>\n",
       "      <th>3</th>\n",
       "      <td>Piletones</td>\n",
       "      <td>Lacarra, B. Pazos, Parque Indoamericano, Lago ...</td>\n",
       "      <td>Villa Soldati</td>\n",
       "    </tr>\n",
       "    <tr>\n",
       "      <th>4</th>\n",
       "      <td>Villa 1-11-14</td>\n",
       "      <td>Avenida P. Moreno, Varela, Club DAOM, Riestra,...</td>\n",
       "      <td>Flores</td>\n",
       "    </tr>\n",
       "  </tbody>\n",
       "</table>\n",
       "</div>"
      ],
      "text/plain": [
       "            Name                                         Begrenzung  \\\n",
       "0       Bajo AU7  Parque de La Ciudad, Avenida Roca, Avenida Lac...   \n",
       "1       Calacita         Barros Pazos, Lacarra, B.y Ordoñez, Laguna   \n",
       "2      Carrilo 2                Mariano Acosta, Castañares, Lacarra   \n",
       "3      Piletones  Lacarra, B. Pazos, Parque Indoamericano, Lago ...   \n",
       "4  Villa 1-11-14  Avenida P. Moreno, Varela, Club DAOM, Riestra,...   \n",
       "\n",
       "       Stadtteil  \n",
       "0  Villa Soldati  \n",
       "1  Villa Soldati  \n",
       "2  Villa Soldati  \n",
       "3  Villa Soldati  \n",
       "4         Flores  "
      ]
     },
     "execution_count": 560,
     "metadata": {},
     "output_type": "execute_result"
    }
   ],
   "source": [
    "url = \"https://de.wikipedia.org/wiki/Liste_der_informellen_Siedlungen_in_Buenos_Aires\"\n",
    "\n",
    "tables = pd.read_html(url)\n",
    "\n",
    "df_slums = tables[0]\n",
    "df_slums.head()"
   ]
  },
  {
   "cell_type": "code",
   "execution_count": 561,
   "metadata": {},
   "outputs": [],
   "source": [
    "df_slums.rename(columns={\n",
    "    'Stadtteil' : 'neighborhood',\n",
    "    'Name' : 'slum'\n",
    "}, inplace=True)\n",
    "df_slums = df_slums.drop(columns={\"Begrenzung\"})\n",
    "df_slums['neighborhood'] = df_slums['neighborhood'].str.upper()"
   ]
  },
  {
   "cell_type": "code",
   "execution_count": 562,
   "metadata": {},
   "outputs": [
    {
     "data": {
      "text/html": [
       "<div>\n",
       "<style scoped>\n",
       "    .dataframe tbody tr th:only-of-type {\n",
       "        vertical-align: middle;\n",
       "    }\n",
       "\n",
       "    .dataframe tbody tr th {\n",
       "        vertical-align: top;\n",
       "    }\n",
       "\n",
       "    .dataframe thead th {\n",
       "        text-align: right;\n",
       "    }\n",
       "</style>\n",
       "<table border=\"1\" class=\"dataframe\">\n",
       "  <thead>\n",
       "    <tr style=\"text-align: right;\">\n",
       "      <th></th>\n",
       "      <th>neighborhood</th>\n",
       "      <th>slum</th>\n",
       "    </tr>\n",
       "  </thead>\n",
       "  <tbody>\n",
       "    <tr>\n",
       "      <th>0</th>\n",
       "      <td>BARRACAS</td>\n",
       "      <td>2</td>\n",
       "    </tr>\n",
       "    <tr>\n",
       "      <th>1</th>\n",
       "      <td>FLORES</td>\n",
       "      <td>1</td>\n",
       "    </tr>\n",
       "    <tr>\n",
       "      <th>2</th>\n",
       "      <td>NUEVA POMPEYA</td>\n",
       "      <td>1</td>\n",
       "    </tr>\n",
       "    <tr>\n",
       "      <th>3</th>\n",
       "      <td>PARQUE AVELLANEDA</td>\n",
       "      <td>1</td>\n",
       "    </tr>\n",
       "    <tr>\n",
       "      <th>4</th>\n",
       "      <td>PARQUE CHACABUCO</td>\n",
       "      <td>1</td>\n",
       "    </tr>\n",
       "    <tr>\n",
       "      <th>5</th>\n",
       "      <td>PUERTO MADERO</td>\n",
       "      <td>1</td>\n",
       "    </tr>\n",
       "    <tr>\n",
       "      <th>6</th>\n",
       "      <td>RETIRO</td>\n",
       "      <td>2</td>\n",
       "    </tr>\n",
       "    <tr>\n",
       "      <th>7</th>\n",
       "      <td>VILLA LUGANO</td>\n",
       "      <td>5</td>\n",
       "    </tr>\n",
       "    <tr>\n",
       "      <th>8</th>\n",
       "      <td>VILLA RIACHUELO</td>\n",
       "      <td>1</td>\n",
       "    </tr>\n",
       "    <tr>\n",
       "      <th>9</th>\n",
       "      <td>VILLA SOLDATI</td>\n",
       "      <td>5</td>\n",
       "    </tr>\n",
       "  </tbody>\n",
       "</table>\n",
       "</div>"
      ],
      "text/plain": [
       "        neighborhood  slum\n",
       "0           BARRACAS     2\n",
       "1             FLORES     1\n",
       "2      NUEVA POMPEYA     1\n",
       "3  PARQUE AVELLANEDA     1\n",
       "4   PARQUE CHACABUCO     1\n",
       "5      PUERTO MADERO     1\n",
       "6             RETIRO     2\n",
       "7       VILLA LUGANO     5\n",
       "8    VILLA RIACHUELO     1\n",
       "9      VILLA SOLDATI     5"
      ]
     },
     "execution_count": 562,
     "metadata": {},
     "output_type": "execute_result"
    }
   ],
   "source": [
    "slums_count = df_slums.groupby('neighborhood', as_index=False)['slum'].count()\n",
    "slums_count"
   ]
  },
  {
   "cell_type": "markdown",
   "metadata": {},
   "source": [
    "## 9. Noise Map"
   ]
  },
  {
   "cell_type": "code",
   "execution_count": 563,
   "metadata": {},
   "outputs": [],
   "source": [
    "df_noise_map_afternoon = pd.read_csv('../data/mapa_de_ruido_diurno.csv', sep = ',')\n",
    "df_noise_map_night = pd.read_csv('../data/mapa_de_ruido_nocturno.csv', sep = ',')"
   ]
  },
  {
   "cell_type": "code",
   "execution_count": 564,
   "metadata": {},
   "outputs": [
    {
     "name": "stdout",
     "output_type": "stream",
     "text": [
      "<class 'pandas.core.frame.DataFrame'>\n",
      "RangeIndex: 316 entries, 0 to 315\n",
      "Data columns (total 8 columns):\n",
      " #   Column                    Non-Null Count  Dtype  \n",
      "---  ------                    --------------  -----  \n",
      " 0   wkt                       316 non-null    object \n",
      " 1   limite_inferior_rango_db  316 non-null    float64\n",
      " 2   limite_superior_rango_db  316 non-null    float64\n",
      " 3   comuna                    316 non-null    int64  \n",
      " 4   leyenda                   316 non-null    object \n",
      " 5   rango_db                  316 non-null    object \n",
      " 6   color                     316 non-null    object \n",
      " 7   periodo                   316 non-null    object \n",
      "dtypes: float64(2), int64(1), object(5)\n",
      "memory usage: 19.9+ KB\n"
     ]
    }
   ],
   "source": [
    "df_noise_map = pd.concat([df_noise_map_afternoon, df_noise_map_night], ignore_index=True)\n",
    "df_noise_map.info()"
   ]
  },
  {
   "cell_type": "code",
   "execution_count": 565,
   "metadata": {},
   "outputs": [],
   "source": [
    "df_noise_map['range_db_mean'] = (df_noise_map['limite_inferior_rango_db'] + df_noise_map['limite_superior_rango_db'])/2\n",
    "df_noise_map = df_noise_map.drop(columns={'limite_inferior_rango_db', 'limite_superior_rango_db', 'leyenda', 'color'})"
   ]
  },
  {
   "cell_type": "code",
   "execution_count": 566,
   "metadata": {},
   "outputs": [],
   "source": [
    "trans_period = {\"Nocturno\" : \"Night\", \"Diurno\" : \"Day\"}\n",
    "df_noise_map['periodo'] = df_noise_map['periodo'].map(trans_period)"
   ]
  },
  {
   "cell_type": "code",
   "execution_count": 567,
   "metadata": {},
   "outputs": [
    {
     "data": {
      "text/html": [
       "<div>\n",
       "<style scoped>\n",
       "    .dataframe tbody tr th:only-of-type {\n",
       "        vertical-align: middle;\n",
       "    }\n",
       "\n",
       "    .dataframe tbody tr th {\n",
       "        vertical-align: top;\n",
       "    }\n",
       "\n",
       "    .dataframe thead th {\n",
       "        text-align: right;\n",
       "    }\n",
       "</style>\n",
       "<table border=\"1\" class=\"dataframe\">\n",
       "  <thead>\n",
       "    <tr style=\"text-align: right;\">\n",
       "      <th></th>\n",
       "      <th>noise_coord</th>\n",
       "      <th>comuna</th>\n",
       "      <th>range_db</th>\n",
       "      <th>period</th>\n",
       "      <th>range_db_mean</th>\n",
       "    </tr>\n",
       "  </thead>\n",
       "  <tbody>\n",
       "    <tr>\n",
       "      <th>0</th>\n",
       "      <td>MULTIPOLYGON (((-58.3714231269834 -34.57855223...</td>\n",
       "      <td>1</td>\n",
       "      <td>30-35</td>\n",
       "      <td>Day</td>\n",
       "      <td>32.5</td>\n",
       "    </tr>\n",
       "    <tr>\n",
       "      <th>1</th>\n",
       "      <td>MULTIPOLYGON (((-58.3714231269834 -34.57855223...</td>\n",
       "      <td>1</td>\n",
       "      <td>35-40</td>\n",
       "      <td>Day</td>\n",
       "      <td>37.5</td>\n",
       "    </tr>\n",
       "    <tr>\n",
       "      <th>2</th>\n",
       "      <td>MULTIPOLYGON (((-58.3714231117057 -34.57856621...</td>\n",
       "      <td>1</td>\n",
       "      <td>40-45</td>\n",
       "      <td>Day</td>\n",
       "      <td>42.5</td>\n",
       "    </tr>\n",
       "  </tbody>\n",
       "</table>\n",
       "</div>"
      ],
      "text/plain": [
       "                                         noise_coord  comuna range_db period  \\\n",
       "0  MULTIPOLYGON (((-58.3714231269834 -34.57855223...       1    30-35    Day   \n",
       "1  MULTIPOLYGON (((-58.3714231269834 -34.57855223...       1    35-40    Day   \n",
       "2  MULTIPOLYGON (((-58.3714231117057 -34.57856621...       1    40-45    Day   \n",
       "\n",
       "   range_db_mean  \n",
       "0           32.5  \n",
       "1           37.5  \n",
       "2           42.5  "
      ]
     },
     "execution_count": 567,
     "metadata": {},
     "output_type": "execute_result"
    }
   ],
   "source": [
    "df_noise_map.drop(columns={\"comuna\"})\n",
    "df_noise_map.rename(columns={\n",
    "    'wkt': 'noise_coord',\n",
    "    'rango_db' : 'range_db',\n",
    "    'periodo' : 'period'\n",
    "}, inplace=True)\n",
    "df_noise_map.head(3)"
   ]
  },
  {
   "cell_type": "markdown",
   "metadata": {},
   "source": [
    "# Adding Neighborhoods to Uploaded Data"
   ]
  },
  {
   "cell_type": "markdown",
   "metadata": {},
   "source": [
    "### 1. Making Geopandas Dataset from Neighborhood data"
   ]
  },
  {
   "cell_type": "code",
   "execution_count": 568,
   "metadata": {},
   "outputs": [],
   "source": [
    "import geopandas as gpd\n",
    "from shapely import wkt\n",
    "\n",
    "barrios = gpd.read_file(\"https://cdn.buenosaires.gob.ar/datosabiertos/datasets/ministerio-de-educacion/barrios/barrios.geojson\")  # или barrios.shp\n",
    "barrios = barrios.to_crs(epsg=4326)"
   ]
  },
  {
   "cell_type": "code",
   "execution_count": 569,
   "metadata": {},
   "outputs": [],
   "source": [
    "barrios = barrios.drop(columns={'objeto', 'id'})\n",
    "barrios.rename(columns={\n",
    "    'nombre': 'neighborhood',\n",
    "    'comuna' : 'commune',\n",
    "    'perimetro_' : 'perimeter_neib',\n",
    "    'area_metro' : 'area_neib'\n",
    "}, inplace=True)\n",
    "barrios['neighborhood'] = barrios['neighborhood'].str.upper()"
   ]
  },
  {
   "cell_type": "markdown",
   "metadata": {},
   "source": [
    "### 2. Adding Neighborhood to Subway Data"
   ]
  },
  {
   "cell_type": "code",
   "execution_count": 571,
   "metadata": {},
   "outputs": [],
   "source": [
    "from shapely.geometry import Point\n",
    "geometry = [Point(xy) for xy in zip(df_subway['long_station'], df_subway['lat_station'])]\n",
    "gdf_subway = gpd.GeoDataFrame(df_subway, geometry=geometry, crs='EPSG:4326')  # WGS84\n",
    "\n",
    "barrios = barrios.to_crs('EPSG:4326')\n",
    "\n",
    "gdf_subway_with_neigh = gpd.sjoin(gdf_subway, barrios[['neighborhood', 'geometry']], how='left', predicate='within')"
   ]
  },
  {
   "cell_type": "code",
   "execution_count": 572,
   "metadata": {},
   "outputs": [],
   "source": [
    "gdf_subway_with_neigh = gdf_subway_with_neigh.drop(columns={'long_station', 'lat_station', 'geometry'})"
   ]
  },
  {
   "cell_type": "code",
   "execution_count": 573,
   "metadata": {},
   "outputs": [
    {
     "data": {
      "text/html": [
       "<div>\n",
       "<style scoped>\n",
       "    .dataframe tbody tr th:only-of-type {\n",
       "        vertical-align: middle;\n",
       "    }\n",
       "\n",
       "    .dataframe tbody tr th {\n",
       "        vertical-align: top;\n",
       "    }\n",
       "\n",
       "    .dataframe thead th {\n",
       "        text-align: right;\n",
       "    }\n",
       "</style>\n",
       "<table border=\"1\" class=\"dataframe\">\n",
       "  <thead>\n",
       "    <tr style=\"text-align: right;\">\n",
       "      <th></th>\n",
       "      <th>neighborhood</th>\n",
       "      <th>station</th>\n",
       "    </tr>\n",
       "  </thead>\n",
       "  <tbody>\n",
       "    <tr>\n",
       "      <th>0</th>\n",
       "      <td>ALMAGRO</td>\n",
       "      <td>5</td>\n",
       "    </tr>\n",
       "    <tr>\n",
       "      <th>1</th>\n",
       "      <td>BALVANERA</td>\n",
       "      <td>12</td>\n",
       "    </tr>\n",
       "    <tr>\n",
       "      <th>2</th>\n",
       "      <td>BELGRANO</td>\n",
       "      <td>2</td>\n",
       "    </tr>\n",
       "  </tbody>\n",
       "</table>\n",
       "</div>"
      ],
      "text/plain": [
       "  neighborhood  station\n",
       "0      ALMAGRO        5\n",
       "1    BALVANERA       12\n",
       "2     BELGRANO        2"
      ]
     },
     "execution_count": 573,
     "metadata": {},
     "output_type": "execute_result"
    }
   ],
   "source": [
    "gdf_subway_with_neigh = gdf_subway_with_neigh.groupby('neighborhood', as_index=False)['station'].count()\n",
    "gdf_subway_with_neigh.rename(columns={'station' : 'subway_stations_amount'})\n",
    "gdf_subway_with_neigh.head(3)"
   ]
  },
  {
   "cell_type": "markdown",
   "metadata": {},
   "source": [
    "### 3. Adding Neighborhood to Noise Map Data"
   ]
  },
  {
   "cell_type": "code",
   "execution_count": 574,
   "metadata": {},
   "outputs": [],
   "source": [
    "# Step 1 - Convert the string to shapely geometry\n",
    "df_noise_map['geometry'] = df_noise_map['noise_coord'].apply(wkt.loads)\n",
    "\n",
    "# Step 2 — create GeoDataFrame\n",
    "gdf_noise = gpd.GeoDataFrame(df_noise_map.drop(columns='noise_coord'), geometry='geometry', crs='EPSG:4326')\n",
    "\n",
    "# Convert the projection to meters (for area)\n",
    "gdf_noise = gdf_noise.to_crs(epsg=3857)\n",
    "barrios = barrios.to_crs(epsg=3857)\n",
    "\n",
    "# Step 3 - spatial intersection: intersection of areas and noise zones\n",
    "noise_inter_area = gpd.overlay(gdf_noise, barrios[['neighborhood', 'area_neib', 'geometry']], how='intersection')\n",
    "\n",
    "# Step 4 - Calculate the intersection area\n",
    "noise_inter_area['inter_area'] = noise_inter_area.geometry.area"
   ]
  },
  {
   "cell_type": "code",
   "execution_count": 398,
   "metadata": {},
   "outputs": [
    {
     "data": {
      "text/html": [
       "<div>\n",
       "<style scoped>\n",
       "    .dataframe tbody tr th:only-of-type {\n",
       "        vertical-align: middle;\n",
       "    }\n",
       "\n",
       "    .dataframe tbody tr th {\n",
       "        vertical-align: top;\n",
       "    }\n",
       "\n",
       "    .dataframe thead th {\n",
       "        text-align: right;\n",
       "    }\n",
       "</style>\n",
       "<table border=\"1\" class=\"dataframe\">\n",
       "  <thead>\n",
       "    <tr style=\"text-align: right;\">\n",
       "      <th></th>\n",
       "      <th>neighborhood</th>\n",
       "      <th>period</th>\n",
       "      <th>mea_db_per_area</th>\n",
       "    </tr>\n",
       "  </thead>\n",
       "  <tbody>\n",
       "    <tr>\n",
       "      <th>0</th>\n",
       "      <td>AGRONOMIA</td>\n",
       "      <td>Day</td>\n",
       "      <td>22.211583</td>\n",
       "    </tr>\n",
       "    <tr>\n",
       "      <th>1</th>\n",
       "      <td>AGRONOMIA</td>\n",
       "      <td>Night</td>\n",
       "      <td>20.322316</td>\n",
       "    </tr>\n",
       "    <tr>\n",
       "      <th>2</th>\n",
       "      <td>ALMAGRO</td>\n",
       "      <td>Day</td>\n",
       "      <td>28.458668</td>\n",
       "    </tr>\n",
       "    <tr>\n",
       "      <th>3</th>\n",
       "      <td>ALMAGRO</td>\n",
       "      <td>Night</td>\n",
       "      <td>26.236751</td>\n",
       "    </tr>\n",
       "    <tr>\n",
       "      <th>4</th>\n",
       "      <td>BALVANERA</td>\n",
       "      <td>Day</td>\n",
       "      <td>27.401132</td>\n",
       "    </tr>\n",
       "  </tbody>\n",
       "</table>\n",
       "</div>"
      ],
      "text/plain": [
       "  neighborhood period  mea_db_per_area\n",
       "0    AGRONOMIA    Day        22.211583\n",
       "1    AGRONOMIA  Night        20.322316\n",
       "2      ALMAGRO    Day        28.458668\n",
       "3      ALMAGRO  Night        26.236751\n",
       "4    BALVANERA    Day        27.401132"
      ]
     },
     "execution_count": 398,
     "metadata": {},
     "output_type": "execute_result"
    }
   ],
   "source": [
    "# Calculate the average sound level in decibels for a neighborhood during the day and night\n",
    "\n",
    "noise_inter_area['mea_db_per_area'] = noise_inter_area['range_db_mean']*noise_inter_area['inter_area']/noise_inter_area['area_neib']\n",
    "noise_inter_area_clean = noise_inter_area.drop(columns={'range_db', 'comuna', 'range_db_mean','inter_area'})\n",
    "noise_inter_area_clean = noise_inter_area_clean.groupby(['neighborhood', 'period'], as_index=False)['mea_db_per_area'].sum()"
   ]
  },
  {
   "cell_type": "code",
   "execution_count": 575,
   "metadata": {},
   "outputs": [
    {
     "data": {
      "text/html": [
       "<div>\n",
       "<style scoped>\n",
       "    .dataframe tbody tr th:only-of-type {\n",
       "        vertical-align: middle;\n",
       "    }\n",
       "\n",
       "    .dataframe tbody tr th {\n",
       "        vertical-align: top;\n",
       "    }\n",
       "\n",
       "    .dataframe thead th {\n",
       "        text-align: right;\n",
       "    }\n",
       "</style>\n",
       "<table border=\"1\" class=\"dataframe\">\n",
       "  <thead>\n",
       "    <tr style=\"text-align: right;\">\n",
       "      <th></th>\n",
       "      <th>neighborhood</th>\n",
       "      <th>day_noise</th>\n",
       "      <th>night_noise</th>\n",
       "    </tr>\n",
       "  </thead>\n",
       "  <tbody>\n",
       "    <tr>\n",
       "      <th>0</th>\n",
       "      <td>AGRONOMIA</td>\n",
       "      <td>22.211583</td>\n",
       "      <td>20.322316</td>\n",
       "    </tr>\n",
       "    <tr>\n",
       "      <th>1</th>\n",
       "      <td>ALMAGRO</td>\n",
       "      <td>28.458668</td>\n",
       "      <td>26.236751</td>\n",
       "    </tr>\n",
       "    <tr>\n",
       "      <th>2</th>\n",
       "      <td>BALVANERA</td>\n",
       "      <td>27.401132</td>\n",
       "      <td>25.515022</td>\n",
       "    </tr>\n",
       "  </tbody>\n",
       "</table>\n",
       "</div>"
      ],
      "text/plain": [
       "  neighborhood  day_noise  night_noise\n",
       "0    AGRONOMIA  22.211583    20.322316\n",
       "1      ALMAGRO  28.458668    26.236751\n",
       "2    BALVANERA  27.401132    25.515022"
      ]
     },
     "execution_count": 575,
     "metadata": {},
     "output_type": "execute_result"
    }
   ],
   "source": [
    "# Transpose the data to obtain a variable of average sound value in decibels separately during the day and separately at night\n",
    "\n",
    "noise_inter_area_pivot = noise_inter_area_clean.pivot(index='neighborhood', columns='period', values='mea_db_per_area').reset_index()\n",
    "noise_inter_area_pivot.columns = ['neighborhood', 'day_noise', 'night_noise']\n",
    "noise_inter_area_pivot.head(3)"
   ]
  },
  {
   "cell_type": "markdown",
   "metadata": {},
   "source": [
    "### 4. Adding Neighborhood to Crimes Data"
   ]
  },
  {
   "cell_type": "code",
   "execution_count": 400,
   "metadata": {},
   "outputs": [
    {
     "data": {
      "text/plain": [
       "array(['VELEZ SARSFIELD', 'MONTE CASTRO', 'FLORESTA', 'VILLA LURO',\n",
       "       'VILLA DEL PARQUE', 'VILLA SANTA RITA', 'PALERMO', 'VILLA CRESPO',\n",
       "       'VILLA SOLDATI', 'FLORES', 'VILLA GRAL. MITRE', 'RECOLETA',\n",
       "       'SAN TELMO', 'CABALLITO', 'PATERNAL', 'NUEVA POMPEYA',\n",
       "       'PARQUE PATRICIOS', 'SAN NICOLAS', 'ALMAGRO', 'BALVANERA',\n",
       "       'AGRONOMIA', 'RETIRO', 'CONSTITUCION', 'SAAVEDRA', 'VILLA URQUIZA',\n",
       "       'COGHLAN', 'BELGRANO', 'VILLA PUEYRREDON', 'SAN CRISTOBAL',\n",
       "       'NUÃ‘EZ', 'VILLA ORTUZAR', 'COLEGIALES', 'VERSALLES', 'MONSERRAT',\n",
       "       'CHACARITA', 'BOEDO', 'LINIERS', 'VILLA DEVOTO', 'BARRACAS',\n",
       "       'VILLA LUGANO', 'PARQUE CHACABUCO', 'PUERTO MADERO', 'BOCA',\n",
       "       'PARQUE AVELLANEDA', 'MATADEROS', 'VILLA RIACHUELO', 'VILLA REAL',\n",
       "       'PARQUE CHAS', nan, 'NUÑEZ', 'SD', 'LA BOCA', 'CONTITUCIÓN',\n",
       "       'RODRIGO BUENO', 'AV BOEDO', 'NO ESPECIFICADA',\n",
       "       'GREGORIO DE LAFERRERE', 'FLORIDA', 'BERNAL', 'DOCK SUD', '0',\n",
       "       'SANTA MARÍA', 'BANFIELD OESTE', 'VILLA LUZURIAGA', 'CASEROS',\n",
       "       'NUNEZ', 'VILLA GENERAL MITRE', 'VILLA ´PUEYRREDON'], dtype=object)"
      ]
     },
     "execution_count": 400,
     "metadata": {},
     "output_type": "execute_result"
    }
   ],
   "source": [
    "crimes_total['neighborhood'].unique()"
   ]
  },
  {
   "cell_type": "code",
   "execution_count": 576,
   "metadata": {},
   "outputs": [],
   "source": [
    "# Catch suspicious and incorrect values ​​of neighborhoods\n",
    "\n",
    "crimes_total_fin = crimes_total[crimes_total['neighborhood'].isna() == 0]\n",
    "crimes_total_fin = crimes_total[crimes_total['neighborhood'] != '0']"
   ]
  },
  {
   "cell_type": "code",
   "execution_count": 577,
   "metadata": {},
   "outputs": [],
   "source": [
    "crimes_total_zero = crimes_total[crimes_total['neighborhood'] == '0']"
   ]
  },
  {
   "cell_type": "code",
   "execution_count": 578,
   "metadata": {},
   "outputs": [
    {
     "name": "stderr",
     "output_type": "stream",
     "text": [
      "C:\\Users\\ASUAS\\AppData\\Local\\Temp\\ipykernel_25280\\1377421833.py:1: SettingWithCopyWarning: \n",
      "A value is trying to be set on a copy of a slice from a DataFrame.\n",
      "Try using .loc[row_indexer,col_indexer] = value instead\n",
      "\n",
      "See the caveats in the documentation: https://pandas.pydata.org/pandas-docs/stable/user_guide/indexing.html#returning-a-view-versus-a-copy\n",
      "  crimes_total_zero['latitude'] = crimes_total_zero['latitude'].astype(float)\n",
      "C:\\Users\\ASUAS\\AppData\\Local\\Temp\\ipykernel_25280\\1377421833.py:2: SettingWithCopyWarning: \n",
      "A value is trying to be set on a copy of a slice from a DataFrame.\n",
      "Try using .loc[row_indexer,col_indexer] = value instead\n",
      "\n",
      "See the caveats in the documentation: https://pandas.pydata.org/pandas-docs/stable/user_guide/indexing.html#returning-a-view-versus-a-copy\n",
      "  crimes_total_zero['longitude'] = crimes_total_zero['longitude'].astype(float)\n"
     ]
    }
   ],
   "source": [
    "crimes_total_zero['latitude'] = crimes_total_zero['latitude'].astype(float)\n",
    "crimes_total_zero['longitude'] = crimes_total_zero['longitude'].astype(float)"
   ]
  },
  {
   "cell_type": "markdown",
   "metadata": {},
   "source": [
    "In the context of this task, due to the small number of records with missing neighborhood values ​​(less than 0.1 percent of all records), we will allow ourselves to neglect these records and not take them into account in the study, considering the effect they have on the results to be insignificant."
   ]
  },
  {
   "cell_type": "code",
   "execution_count": 579,
   "metadata": {},
   "outputs": [
    {
     "name": "stdout",
     "output_type": "stream",
     "text": [
      "0.075\n"
     ]
    }
   ],
   "source": [
    "crimes_total_infin = crimes_total[crimes_total['neighborhood'].isna()]\n",
    "perc = 100*crimes_total_infin.shape[0]/crimes_total.shape[0]\n",
    "print(round(perc, 3))"
   ]
  },
  {
   "cell_type": "markdown",
   "metadata": {},
   "source": [
    "Let’s explore the dataset containing crimes with zero or missing neighborhood values."
   ]
  },
  {
   "cell_type": "code",
   "execution_count": 580,
   "metadata": {},
   "outputs": [
    {
     "data": {
      "text/plain": [
       "(-583961199.0, -58374817.0, -346148368.0, -34573171.0)"
      ]
     },
     "execution_count": 580,
     "metadata": {},
     "output_type": "execute_result"
    }
   ],
   "source": [
    "crimes_total_zero['longitude'].min(), crimes_total_zero['longitude'].max(), crimes_total_zero['latitude'].min(), crimes_total_zero['latitude'].max()"
   ]
  },
  {
   "cell_type": "markdown",
   "metadata": {},
   "source": [
    "Note that the coordinates of the districts of Buenos Aires correspond to longitude and latitude coordinates of about -58 and -34, respectively. However, the data contains values ​​that differ by a million and ten million times. Let's transform them to the right scale."
   ]
  },
  {
   "cell_type": "code",
   "execution_count": 581,
   "metadata": {},
   "outputs": [],
   "source": [
    "while True:\n",
    "    crimes_total_zero.loc[crimes_total_zero['longitude'] < -100, 'longitude'] /= 10\n",
    "    if len(crimes_total_zero[crimes_total_zero['longitude'] < -100]) == 0:\n",
    "        break"
   ]
  },
  {
   "cell_type": "code",
   "execution_count": 582,
   "metadata": {},
   "outputs": [],
   "source": [
    "while True:\n",
    "    crimes_total_zero.loc[crimes_total_zero['latitude'] < -100, 'latitude'] /= 10\n",
    "    if len(crimes_total_zero[crimes_total_zero['latitude'] < -100]) == 0:\n",
    "        break"
   ]
  },
  {
   "cell_type": "code",
   "execution_count": 583,
   "metadata": {},
   "outputs": [
    {
     "data": {
      "text/plain": [
       "(-58.515837, -58.37481700000001, -34.678989, -34.573171)"
      ]
     },
     "execution_count": 583,
     "metadata": {},
     "output_type": "execute_result"
    }
   ],
   "source": [
    "crimes_total_zero['longitude'].min(), crimes_total_zero['longitude'].max(), crimes_total_zero['latitude'].min(), crimes_total_zero['latitude'].max()"
   ]
  },
  {
   "cell_type": "markdown",
   "metadata": {},
   "source": [
    "For now we can merge it with df_neighborhood dataset to obtain real  names instead of zeros."
   ]
  },
  {
   "cell_type": "code",
   "execution_count": 584,
   "metadata": {},
   "outputs": [],
   "source": [
    "geometry = [Point(xy) for xy in zip(crimes_total_zero['longitude'], crimes_total_zero['latitude'])]\n",
    "gcrimes_total_zero = gpd.GeoDataFrame(crimes_total_zero, geometry=geometry, crs='EPSG:4326')  # WGS84\n",
    "\n",
    "barrios = barrios.to_crs('EPSG:4326')\n",
    "\n",
    "gcrimes_total_zero_with_neigh = gpd.sjoin(gcrimes_total_zero, barrios[['neighborhood', 'geometry']], how='left', predicate='within')\n"
   ]
  },
  {
   "cell_type": "code",
   "execution_count": 585,
   "metadata": {},
   "outputs": [],
   "source": [
    "gcrimes_total_zero_with_neigh = gcrimes_total_zero_with_neigh.drop(columns={'neighborhood_left', 'geometry', 'index_right'})\n",
    "gcrimes_total_zero_with_neigh = gcrimes_total_zero_with_neigh.rename(columns={'neighborhood_right' : 'neighborhood'})\n"
   ]
  },
  {
   "cell_type": "code",
   "execution_count": 586,
   "metadata": {},
   "outputs": [],
   "source": [
    "crimes_fin = pd.concat([crimes_total_fin, gcrimes_total_zero_with_neigh], ignore_index=True)\n",
    "crimes_fin = crimes_fin.drop(columns={'day_of_week', 'date', 'hour', 'using_arm', 'using_motorbike', 'comuna', 'latitude', 'longitude', 'crime_subtype'})"
   ]
  },
  {
   "cell_type": "markdown",
   "metadata": {},
   "source": [
    "As you can see, not all the district values ​​from the crime dataset match the values ​​from the Buenos Aires districts dataset. Let's try to process them manually using Google Maps"
   ]
  },
  {
   "cell_type": "code",
   "execution_count": 588,
   "metadata": {},
   "outputs": [],
   "source": [
    "replace_map = {\n",
    "    'NUÃ‘EZ': 'NUÑEZ',\n",
    "    'CONTITUCIÓN': 'CONSTITUCION',\n",
    "    'LA BOCA': 'BOCA',\n",
    "    'NUNEZ': 'NUÑEZ',\n",
    "    'VILLA GENERAL MITRE': 'VILLA GRAL. MITRE',\n",
    "    'VILLA ´PUEYRREDON': 'VILLA PUEYRREDON',\n",
    "    'AV BOEDO': 'BOEDO',\n",
    "    'SD': None,  # Unable to find out neighborhood\n",
    "    'NO ESPECIFICADA': None, # Unable to find out neighborhood\n",
    "    'RODRIGO BUENO': 'PUERTO MADERO',\n",
    "    'FLORIDA': None, # The neighborhood extends beyond the city limits\n",
    "    'GREGORIO DE LAFERRERE': None, # The neighborhood extends beyond the city limits\n",
    "    'BERNAL': None, # The neighborhood extends beyond the city limits\n",
    "    'DOCK SUD': None, # The neighborhood extends beyond the city limits\n",
    "    'SANTA MARÍA': None, # The neighborhood extends beyond the city limits\n",
    "    'BANFIELD OESTE': None, # The neighborhood extends beyond the city limits\n",
    "    'CASEROS': None, # The neighborhood extends beyond the city limits\n",
    "}"
   ]
  },
  {
   "cell_type": "code",
   "execution_count": 589,
   "metadata": {},
   "outputs": [],
   "source": [
    "crimes_fin['neighborhood'] = crimes_fin['neighborhood'].replace(replace_map)"
   ]
  },
  {
   "cell_type": "markdown",
   "metadata": {},
   "source": [
    "Let's combine some types of crimes and remove road traffic accidents from their number"
   ]
  },
  {
   "cell_type": "code",
   "execution_count": 590,
   "metadata": {},
   "outputs": [],
   "source": [
    "repl_crimes = {\n",
    "    'Theft' : 'property_crime',\n",
    "    'Robbery' : 'property_crime',\n",
    "    'Injuries' : 'injuries_crime',\n",
    "    'Homicides' : 'homicides_crime',\n",
    "    'Threats' : 'threats_crime'\n",
    "}\n",
    "crimes_fin = crimes_fin[crimes_fin['crime_type'] != 'Traffic Incidents']\n",
    "crimes_fin['crime_type'] = crimes_fin['crime_type'].replace(repl_crimes)"
   ]
  },
  {
   "cell_type": "markdown",
   "metadata": {},
   "source": [
    "Now we will calculate the average number of crimes of each type committed per month."
   ]
  },
  {
   "cell_type": "code",
   "execution_count": 591,
   "metadata": {},
   "outputs": [],
   "source": [
    "crimes_fin_grpd = crimes_fin.groupby(['neighborhood', 'year', 'month', 'crime_type'], as_index=False)['amount'].sum()\n",
    "crimes_fin_mean = crimes_fin_grpd.groupby(['neighborhood', 'crime_type'], as_index=False)['amount'].mean()"
   ]
  },
  {
   "cell_type": "code",
   "execution_count": 592,
   "metadata": {},
   "outputs": [
    {
     "data": {
      "text/html": [
       "<div>\n",
       "<style scoped>\n",
       "    .dataframe tbody tr th:only-of-type {\n",
       "        vertical-align: middle;\n",
       "    }\n",
       "\n",
       "    .dataframe tbody tr th {\n",
       "        vertical-align: top;\n",
       "    }\n",
       "\n",
       "    .dataframe thead th {\n",
       "        text-align: right;\n",
       "    }\n",
       "</style>\n",
       "<table border=\"1\" class=\"dataframe\">\n",
       "  <thead>\n",
       "    <tr style=\"text-align: right;\">\n",
       "      <th></th>\n",
       "      <th>neighborhood</th>\n",
       "      <th>homicides_crime</th>\n",
       "      <th>injuries_crime</th>\n",
       "      <th>property_crime</th>\n",
       "      <th>threats_crime</th>\n",
       "    </tr>\n",
       "  </thead>\n",
       "  <tbody>\n",
       "    <tr>\n",
       "      <th>0</th>\n",
       "      <td>AGRONOMIA</td>\n",
       "      <td>0.000000</td>\n",
       "      <td>2.642857</td>\n",
       "      <td>29.055556</td>\n",
       "      <td>2.133333</td>\n",
       "    </tr>\n",
       "    <tr>\n",
       "      <th>1</th>\n",
       "      <td>ALMAGRO</td>\n",
       "      <td>1.250000</td>\n",
       "      <td>24.444444</td>\n",
       "      <td>355.972222</td>\n",
       "      <td>24.250000</td>\n",
       "    </tr>\n",
       "    <tr>\n",
       "      <th>2</th>\n",
       "      <td>BALVANERA</td>\n",
       "      <td>1.538462</td>\n",
       "      <td>52.777778</td>\n",
       "      <td>597.944444</td>\n",
       "      <td>37.472222</td>\n",
       "    </tr>\n",
       "  </tbody>\n",
       "</table>\n",
       "</div>"
      ],
      "text/plain": [
       "  neighborhood  homicides_crime  injuries_crime  property_crime  threats_crime\n",
       "0    AGRONOMIA         0.000000        2.642857       29.055556       2.133333\n",
       "1      ALMAGRO         1.250000       24.444444      355.972222      24.250000\n",
       "2    BALVANERA         1.538462       52.777778      597.944444      37.472222"
      ]
     },
     "execution_count": 592,
     "metadata": {},
     "output_type": "execute_result"
    }
   ],
   "source": [
    "crimes_per_month = crimes_fin_mean.pivot(index='neighborhood', columns='crime_type', values='amount').reset_index().fillna(0).rename_axis(None, axis=1)\n",
    "\n",
    "crimes_per_month.head(3)"
   ]
  },
  {
   "cell_type": "markdown",
   "metadata": {},
   "source": [
    "### 5. Adding Neighborhood to Educational Institutions Data"
   ]
  },
  {
   "cell_type": "code",
   "execution_count": 593,
   "metadata": {},
   "outputs": [
    {
     "data": {
      "text/plain": [
       "array(['VILLA SOLDATI', 'FLORES', 'PALERMO', 'NUÃ‘EZ', 'MONTE CASTRO',\n",
       "       'BELGRANO', 'COGHLAN', 'CABALLITO', 'VILLA CRESPO',\n",
       "       'VILLA GRAL. MITRE', 'RETIRO', 'RECOLETA', 'VILLA URQUIZA',\n",
       "       'CONSTITUCION', 'NUEVA POMPEYA', 'LINIERS', 'ALMAGRO',\n",
       "       'VILLA LUGANO', 'PARQUE CHACABUCO', 'PARQUE AVELLANEDA',\n",
       "       'SAAVEDRA', 'PARQUE PATRICIOS', 'VILLA SANTA RITA', 'PATERNAL',\n",
       "       'BALVANERA', 'VILLA DEL PARQUE', 'VILLA DEVOTO', 'VILLA REAL',\n",
       "       'MATADEROS', 'MONTSERRAT', 'FLORESTA', 'AGRONOMIA', 'BOEDO',\n",
       "       'SAN CRISTOBAL', 'VILLA ORTUZAR', 'PARQUE CHAS', 'SAN NICOLAS',\n",
       "       'SAN TELMO', 'BOCA', 'VILLA LURO', 'VERSALLES', 'VELEZ SARSFIELD',\n",
       "       'VILLA PUEYRREDON', 'BARRACAS', 'CHACARITA', 'COLEGIALES',\n",
       "       'VILLA RIACHUELO', nan, 'PUERTO MADERO', '6', '10', '3'],\n",
       "      dtype=object)"
      ]
     },
     "execution_count": 593,
     "metadata": {},
     "output_type": "execute_result"
    }
   ],
   "source": [
    "df_education['neighborhood'].unique()"
   ]
  },
  {
   "cell_type": "markdown",
   "metadata": {},
   "source": [
    "As we can see from the list above not all neighborhoods are displayed correctly."
   ]
  },
  {
   "cell_type": "code",
   "execution_count": 594,
   "metadata": {},
   "outputs": [],
   "source": [
    "geometry = [Point(xy) for xy in zip(df_education['institution_long'], df_education['institution_lat'])]\n",
    "gdf_education = gpd.GeoDataFrame(df_education, geometry=geometry, crs='EPSG:4326')  # WGS84\n",
    "\n",
    "barrios = barrios.to_crs('EPSG:4326')\n",
    "\n",
    "gdf_education_with_neigh = gpd.sjoin(gdf_education, barrios[['neighborhood', 'geometry']], how='left', predicate='within')"
   ]
  },
  {
   "cell_type": "markdown",
   "metadata": {},
   "source": [
    "It seems that we will not be able to use data where the areas were not defined, so we can painlessly delete these records"
   ]
  },
  {
   "cell_type": "code",
   "execution_count": 595,
   "metadata": {},
   "outputs": [],
   "source": [
    "gdf_education_with_neigh = gdf_education_with_neigh[gdf_education_with_neigh['neighborhood_right'].isna() == 0]\n",
    "gdf_education_with_neigh = gdf_education_with_neigh.drop(columns={'geometry', 'institution_long', 'institution_lat', 'index_right', 'neighborhood_left'})\n",
    "gdf_education_with_neigh = gdf_education_with_neigh.rename(columns={'neighborhood_right' : 'neighborhood'})"
   ]
  },
  {
   "cell_type": "code",
   "execution_count": 596,
   "metadata": {},
   "outputs": [],
   "source": [
    "education_grpd = gdf_education_with_neigh.groupby(['neighborhood', 'sector'], as_index=False)['institution_name'].count()"
   ]
  },
  {
   "cell_type": "code",
   "execution_count": 597,
   "metadata": {},
   "outputs": [
    {
     "data": {
      "text/html": [
       "<div>\n",
       "<style scoped>\n",
       "    .dataframe tbody tr th:only-of-type {\n",
       "        vertical-align: middle;\n",
       "    }\n",
       "\n",
       "    .dataframe tbody tr th {\n",
       "        vertical-align: top;\n",
       "    }\n",
       "\n",
       "    .dataframe thead th {\n",
       "        text-align: right;\n",
       "    }\n",
       "</style>\n",
       "<table border=\"1\" class=\"dataframe\">\n",
       "  <thead>\n",
       "    <tr style=\"text-align: right;\">\n",
       "      <th></th>\n",
       "      <th>neighborhood</th>\n",
       "      <th>private_institution</th>\n",
       "      <th>state_institution</th>\n",
       "    </tr>\n",
       "  </thead>\n",
       "  <tbody>\n",
       "    <tr>\n",
       "      <th>0</th>\n",
       "      <td>AGRONOMIA</td>\n",
       "      <td>6</td>\n",
       "      <td>16</td>\n",
       "    </tr>\n",
       "    <tr>\n",
       "      <th>1</th>\n",
       "      <td>ALMAGRO</td>\n",
       "      <td>73</td>\n",
       "      <td>70</td>\n",
       "    </tr>\n",
       "    <tr>\n",
       "      <th>2</th>\n",
       "      <td>BALVANERA</td>\n",
       "      <td>74</td>\n",
       "      <td>100</td>\n",
       "    </tr>\n",
       "    <tr>\n",
       "      <th>3</th>\n",
       "      <td>BARRACAS</td>\n",
       "      <td>30</td>\n",
       "      <td>86</td>\n",
       "    </tr>\n",
       "    <tr>\n",
       "      <th>4</th>\n",
       "      <td>BELGRANO</td>\n",
       "      <td>69</td>\n",
       "      <td>37</td>\n",
       "    </tr>\n",
       "  </tbody>\n",
       "</table>\n",
       "</div>"
      ],
      "text/plain": [
       "  neighborhood  private_institution  state_institution\n",
       "0    AGRONOMIA                    6                 16\n",
       "1      ALMAGRO                   73                 70\n",
       "2    BALVANERA                   74                100\n",
       "3     BARRACAS                   30                 86\n",
       "4     BELGRANO                   69                 37"
      ]
     },
     "execution_count": 597,
     "metadata": {},
     "output_type": "execute_result"
    }
   ],
   "source": [
    "education_grpd['sector'] = education_grpd['sector'].replace({1 : 'state_institution', 2 : 'private_institution'})\n",
    "education_grpd_pv = education_grpd.pivot(index='neighborhood', columns='sector', values='institution_name').reset_index().fillna(0).rename_axis(None, axis=1)\n",
    "\n",
    "education_grpd_pv.head()"
   ]
  },
  {
   "cell_type": "markdown",
   "metadata": {},
   "source": [
    "\n",
    "### 6. Adding Neighborhood to Green Zones Data"
   ]
  },
  {
   "cell_type": "code",
   "execution_count": 598,
   "metadata": {},
   "outputs": [],
   "source": [
    "# (1) Loading and converting geometry\n",
    "df_green_spase['geometry'] = df_green_spase['geometry'].apply(lambda x: wkt.loads(x) if isinstance(x, str) else x)\n",
    "\n",
    "# (2) Create a GeoDataFrame and convert it to meters\n",
    "gdf_green_spase = gpd.GeoDataFrame(df_green_spase, geometry='geometry', crs='EPSG:4326')\n",
    "gdf_green_spase = gdf_green_spase.to_crs(epsg=3857)\n",
    "\n",
    "# (3) Считаем площадь зоны\n",
    "gdf_green_spase['zone_area'] = gdf_green_spase.geometry.area\n",
    "\n",
    "# (4) We calculate the area of ​​the zone\n",
    "barrios = barrios.to_crs(epsg=3857)\n",
    "\n",
    "# (5) Spatial intersection\n",
    "green_spase_inter_area = gpd.overlay(\n",
    "    gdf_green_spase,\n",
    "    barrios[['neighborhood', 'area_neib', 'geometry']],\n",
    "    how='intersection'\n",
    ")\n",
    "\n",
    "# (6) Intersection area\n",
    "green_spase_inter_area['inter_area'] = green_spase_inter_area.geometry.area"
   ]
  },
  {
   "cell_type": "code",
   "execution_count": 599,
   "metadata": {},
   "outputs": [],
   "source": [
    "green_spase_inter_area = green_spase_inter_area.drop(columns={'neighborhood_1', 'commune', 'geometry'})\n",
    "green_spase_inter_area = green_spase_inter_area.rename(columns={'neighborhood_2': 'neighborhood'})"
   ]
  },
  {
   "cell_type": "code",
   "execution_count": 600,
   "metadata": {},
   "outputs": [],
   "source": [
    "green_spase_inter_area['pati'] = 0\n",
    "green_spase_inter_area.loc[\n",
    "    (green_spase_inter_area['tiene_pati'] == 1.0),\n",
    "    'pati'\n",
    "] = 1\n",
    "green_spase_inter_area = green_spase_inter_area.drop(columns={'tiene_pati'})"
   ]
  },
  {
   "cell_type": "code",
   "execution_count": 601,
   "metadata": {},
   "outputs": [],
   "source": [
    "green_spase_sum_per_neib = (\n",
    "    green_spase_inter_area\n",
    "    .groupby(['neighborhood', 'area_neib'], as_index=False)\n",
    "    .agg(total_green_area=('inter_area', 'sum'))\n",
    ")\n",
    "\n",
    "green_spase_amount_per_neib = (\n",
    "    green_spase_inter_area\n",
    "    .groupby(['neighborhood'], as_index=False)\n",
    "    .agg(n_green_zones=('id', 'count'))\n",
    ")\n",
    "\n",
    "patio_amount_per_neib = (\n",
    "    green_spase_inter_area\n",
    "    .groupby(['neighborhood'], as_index=False)\n",
    "    .agg(n_green_zones_with_pati=('pati', 'sum'))\n",
    ")\n",
    "\n",
    "mean_green_spase_per_neib = (\n",
    "    green_spase_inter_area\n",
    "    .groupby(['neighborhood'], as_index=False)\n",
    "    .agg(mean_green_area=('inter_area', 'mean'))\n",
    ")\n"
   ]
  },
  {
   "cell_type": "code",
   "execution_count": 602,
   "metadata": {},
   "outputs": [],
   "source": [
    "green_spase_merged_1 = pd.merge(green_spase_sum_per_neib, green_spase_amount_per_neib, on='neighborhood', how='left')\n",
    "green_spase_merged_2 = pd.merge(green_spase_merged_1, patio_amount_per_neib, on='neighborhood', how='left')\n",
    "green_spase_final = pd.merge(green_spase_merged_2, mean_green_spase_per_neib, on='neighborhood', how='left')\n",
    "green_spase_final['green_area_pct'] = 100*green_spase_final['total_green_area']/green_spase_final['area_neib']\n",
    "green_spase_final = green_spase_final.drop(columns = {'area_neib'})"
   ]
  },
  {
   "cell_type": "markdown",
   "metadata": {},
   "source": [
    "# Final Data Merging"
   ]
  },
  {
   "cell_type": "markdown",
   "metadata": {},
   "source": [
    "Merging Neighborhood, Population, Slums and Hospital Datasets"
   ]
  },
  {
   "cell_type": "code",
   "execution_count": 512,
   "metadata": {},
   "outputs": [],
   "source": [
    "merged_np = pd.merge(df_neighborhood, df_population, on='neighborhood', how='left')\n",
    "merged_nps = pd.merge(merged_np, slums_count, on='neighborhood', how='left')\n",
    "merged_npsh = pd.merge(merged_nps, df_hospitals, on='neighborhood', how='left')"
   ]
  },
  {
   "cell_type": "markdown",
   "metadata": {},
   "source": [
    "Merging Obtained one with Subway, Noise and Crimes Datasets"
   ]
  },
  {
   "cell_type": "code",
   "execution_count": 513,
   "metadata": {},
   "outputs": [],
   "source": [
    "merged_npshw = pd.merge(merged_npsh, gdf_subway_with_neigh, on='neighborhood', how='left')\n",
    "merged_npshwns = pd.merge(merged_npshw, noise_inter_area_pivot, on='neighborhood', how='left')\n",
    "merged_all_crimes = pd.merge(merged_npshwns, crimes_per_month, on='neighborhood', how='left')"
   ]
  },
  {
   "cell_type": "markdown",
   "metadata": {},
   "source": [
    "Merging Obtained one with Education and Green Space Datasets"
   ]
  },
  {
   "cell_type": "code",
   "execution_count": 603,
   "metadata": {},
   "outputs": [
    {
     "data": {
      "text/html": [
       "<div>\n",
       "<style scoped>\n",
       "    .dataframe tbody tr th:only-of-type {\n",
       "        vertical-align: middle;\n",
       "    }\n",
       "\n",
       "    .dataframe tbody tr th {\n",
       "        vertical-align: top;\n",
       "    }\n",
       "\n",
       "    .dataframe thead th {\n",
       "        text-align: right;\n",
       "    }\n",
       "</style>\n",
       "<table border=\"1\" class=\"dataframe\">\n",
       "  <thead>\n",
       "    <tr style=\"text-align: right;\">\n",
       "      <th></th>\n",
       "      <th>neighborhood</th>\n",
       "      <th>commune</th>\n",
       "      <th>perimeter_neib</th>\n",
       "      <th>area_neib</th>\n",
       "      <th>geometry</th>\n",
       "      <th>population</th>\n",
       "      <th>slum</th>\n",
       "      <th>amount_of_hospitals</th>\n",
       "      <th>station</th>\n",
       "      <th>day_noise</th>\n",
       "      <th>...</th>\n",
       "      <th>injuries_crime</th>\n",
       "      <th>property_crime</th>\n",
       "      <th>threats_crime</th>\n",
       "      <th>private_institution</th>\n",
       "      <th>state_institution</th>\n",
       "      <th>total_green_area</th>\n",
       "      <th>n_green_zones</th>\n",
       "      <th>n_green_zones_with_pati</th>\n",
       "      <th>mean_green_area</th>\n",
       "      <th>green_area_pct</th>\n",
       "    </tr>\n",
       "  </thead>\n",
       "  <tbody>\n",
       "    <tr>\n",
       "      <th>0</th>\n",
       "      <td>AGRONOMIA</td>\n",
       "      <td>15</td>\n",
       "      <td>6556.17</td>\n",
       "      <td>2122169.34</td>\n",
       "      <td>POLYGON ((-58.475888981732986 -34.591723461272...</td>\n",
       "      <td>13912</td>\n",
       "      <td>NaN</td>\n",
       "      <td>NaN</td>\n",
       "      <td>NaN</td>\n",
       "      <td>22.211583</td>\n",
       "      <td>...</td>\n",
       "      <td>2.642857</td>\n",
       "      <td>29.055556</td>\n",
       "      <td>2.133333</td>\n",
       "      <td>6</td>\n",
       "      <td>16</td>\n",
       "      <td>6.092036e+03</td>\n",
       "      <td>11</td>\n",
       "      <td>0</td>\n",
       "      <td>553.821419</td>\n",
       "      <td>0.287066</td>\n",
       "    </tr>\n",
       "    <tr>\n",
       "      <th>1</th>\n",
       "      <td>ALMAGRO</td>\n",
       "      <td>5</td>\n",
       "      <td>8537.90</td>\n",
       "      <td>4050752.25</td>\n",
       "      <td>POLYGON ((-58.416002854915654 -34.597854231564...</td>\n",
       "      <td>131699</td>\n",
       "      <td>NaN</td>\n",
       "      <td>1.0</td>\n",
       "      <td>5.0</td>\n",
       "      <td>28.458668</td>\n",
       "      <td>...</td>\n",
       "      <td>24.444444</td>\n",
       "      <td>355.972222</td>\n",
       "      <td>24.250000</td>\n",
       "      <td>73</td>\n",
       "      <td>70</td>\n",
       "      <td>1.544574e+04</td>\n",
       "      <td>12</td>\n",
       "      <td>4</td>\n",
       "      <td>1287.144970</td>\n",
       "      <td>0.381305</td>\n",
       "    </tr>\n",
       "    <tr>\n",
       "      <th>2</th>\n",
       "      <td>BALVANERA</td>\n",
       "      <td>3</td>\n",
       "      <td>8375.82</td>\n",
       "      <td>4342280.27</td>\n",
       "      <td>POLYGON ((-58.392934155259674 -34.599636447011...</td>\n",
       "      <td>138926</td>\n",
       "      <td>NaN</td>\n",
       "      <td>1.0</td>\n",
       "      <td>12.0</td>\n",
       "      <td>27.401132</td>\n",
       "      <td>...</td>\n",
       "      <td>52.777778</td>\n",
       "      <td>597.944444</td>\n",
       "      <td>37.472222</td>\n",
       "      <td>74</td>\n",
       "      <td>100</td>\n",
       "      <td>4.625271e+04</td>\n",
       "      <td>9</td>\n",
       "      <td>6</td>\n",
       "      <td>5139.189604</td>\n",
       "      <td>1.065171</td>\n",
       "    </tr>\n",
       "    <tr>\n",
       "      <th>3</th>\n",
       "      <td>BARRACAS</td>\n",
       "      <td>4</td>\n",
       "      <td>12844.17</td>\n",
       "      <td>7954579.06</td>\n",
       "      <td>POLYGON ((-58.3706620577617 -34.62949214687238...</td>\n",
       "      <td>89452</td>\n",
       "      <td>2.0</td>\n",
       "      <td>6.0</td>\n",
       "      <td>NaN</td>\n",
       "      <td>32.513541</td>\n",
       "      <td>...</td>\n",
       "      <td>43.027778</td>\n",
       "      <td>286.055556</td>\n",
       "      <td>43.944444</td>\n",
       "      <td>30</td>\n",
       "      <td>86</td>\n",
       "      <td>3.968281e+05</td>\n",
       "      <td>101</td>\n",
       "      <td>17</td>\n",
       "      <td>3928.991535</td>\n",
       "      <td>4.988676</td>\n",
       "    </tr>\n",
       "    <tr>\n",
       "      <th>4</th>\n",
       "      <td>BELGRANO</td>\n",
       "      <td>13</td>\n",
       "      <td>20443.29</td>\n",
       "      <td>8025458.65</td>\n",
       "      <td>POLYGON ((-58.45056826999142 -34.5356114803969...</td>\n",
       "      <td>126267</td>\n",
       "      <td>NaN</td>\n",
       "      <td>1.0</td>\n",
       "      <td>2.0</td>\n",
       "      <td>26.384386</td>\n",
       "      <td>...</td>\n",
       "      <td>17.666667</td>\n",
       "      <td>291.055556</td>\n",
       "      <td>16.527778</td>\n",
       "      <td>69</td>\n",
       "      <td>37</td>\n",
       "      <td>1.588319e+06</td>\n",
       "      <td>66</td>\n",
       "      <td>13</td>\n",
       "      <td>24065.442280</td>\n",
       "      <td>19.791008</td>\n",
       "    </tr>\n",
       "  </tbody>\n",
       "</table>\n",
       "<p>5 rows × 22 columns</p>\n",
       "</div>"
      ],
      "text/plain": [
       "  neighborhood  commune  perimeter_neib   area_neib  \\\n",
       "0    AGRONOMIA       15         6556.17  2122169.34   \n",
       "1      ALMAGRO        5         8537.90  4050752.25   \n",
       "2    BALVANERA        3         8375.82  4342280.27   \n",
       "3     BARRACAS        4        12844.17  7954579.06   \n",
       "4     BELGRANO       13        20443.29  8025458.65   \n",
       "\n",
       "                                            geometry  population  slum  \\\n",
       "0  POLYGON ((-58.475888981732986 -34.591723461272...       13912   NaN   \n",
       "1  POLYGON ((-58.416002854915654 -34.597854231564...      131699   NaN   \n",
       "2  POLYGON ((-58.392934155259674 -34.599636447011...      138926   NaN   \n",
       "3  POLYGON ((-58.3706620577617 -34.62949214687238...       89452   2.0   \n",
       "4  POLYGON ((-58.45056826999142 -34.5356114803969...      126267   NaN   \n",
       "\n",
       "   amount_of_hospitals  station  day_noise  ...  injuries_crime  \\\n",
       "0                  NaN      NaN  22.211583  ...        2.642857   \n",
       "1                  1.0      5.0  28.458668  ...       24.444444   \n",
       "2                  1.0     12.0  27.401132  ...       52.777778   \n",
       "3                  6.0      NaN  32.513541  ...       43.027778   \n",
       "4                  1.0      2.0  26.384386  ...       17.666667   \n",
       "\n",
       "   property_crime  threats_crime  private_institution  state_institution  \\\n",
       "0       29.055556       2.133333                    6                 16   \n",
       "1      355.972222      24.250000                   73                 70   \n",
       "2      597.944444      37.472222                   74                100   \n",
       "3      286.055556      43.944444                   30                 86   \n",
       "4      291.055556      16.527778                   69                 37   \n",
       "\n",
       "   total_green_area  n_green_zones  n_green_zones_with_pati  mean_green_area  \\\n",
       "0      6.092036e+03             11                        0       553.821419   \n",
       "1      1.544574e+04             12                        4      1287.144970   \n",
       "2      4.625271e+04              9                        6      5139.189604   \n",
       "3      3.968281e+05            101                       17      3928.991535   \n",
       "4      1.588319e+06             66                       13     24065.442280   \n",
       "\n",
       "   green_area_pct  \n",
       "0        0.287066  \n",
       "1        0.381305  \n",
       "2        1.065171  \n",
       "3        4.988676  \n",
       "4       19.791008  \n",
       "\n",
       "[5 rows x 22 columns]"
      ]
     },
     "execution_count": 603,
     "metadata": {},
     "output_type": "execute_result"
    }
   ],
   "source": [
    "merged_all_education = pd.merge(merged_all_crimes, education_grpd_pv, on='neighborhood', how='left')\n",
    "data_final = pd.merge(merged_all_education, green_spase_final, on='neighborhood', how='left')\n",
    "data_final.head()"
   ]
  },
  {
   "cell_type": "code",
   "execution_count": 604,
   "metadata": {},
   "outputs": [
    {
     "data": {
      "text/plain": [
       "neighborhood                0\n",
       "commune                     0\n",
       "perimeter_neib              0\n",
       "area_neib                   0\n",
       "geometry                    0\n",
       "population                  0\n",
       "slum                       38\n",
       "amount_of_hospitals        29\n",
       "station                    28\n",
       "day_noise                   0\n",
       "night_noise                 0\n",
       "homicides_crime             0\n",
       "injuries_crime              0\n",
       "property_crime              0\n",
       "threats_crime               0\n",
       "private_institution         0\n",
       "state_institution           0\n",
       "total_green_area            0\n",
       "n_green_zones               0\n",
       "n_green_zones_with_pati     0\n",
       "mean_green_area             0\n",
       "green_area_pct              0\n",
       "dtype: int64"
      ]
     },
     "execution_count": 604,
     "metadata": {},
     "output_type": "execute_result"
    }
   ],
   "source": [
    "# Checking missing values\n",
    "\n",
    "data_final.isna().sum()"
   ]
  },
  {
   "cell_type": "code",
   "execution_count": 605,
   "metadata": {},
   "outputs": [],
   "source": [
    "# Since missing values ​​are only present in variables containing numerical values ​\n",
    "# ​(quantitative or continuous), we can safely substitute 0 where a value is missing.\n",
    "\n",
    "data_final = data_final.fillna(0)"
   ]
  },
  {
   "cell_type": "code",
   "execution_count": 606,
   "metadata": {},
   "outputs": [],
   "source": [
    "# Load the final version of the data into a csv file\n",
    "\n",
    "data_final.to_csv('../data/Full_ba_neighborhood_data.csv', index=False)"
   ]
  },
  {
   "cell_type": "markdown",
   "metadata": {},
   "source": [
    "As a result, we obtained a clean dataset with 48 neighborhoods and 22 features, ready for feature engineering and modeling"
   ]
  }
 ],
 "metadata": {
  "kernelspec": {
   "display_name": "Python 3",
   "language": "python",
   "name": "python3"
  },
  "language_info": {
   "codemirror_mode": {
    "name": "ipython",
    "version": 3
   },
   "file_extension": ".py",
   "mimetype": "text/x-python",
   "name": "python",
   "nbconvert_exporter": "python",
   "pygments_lexer": "ipython3",
   "version": "3.12.4"
  }
 },
 "nbformat": 4,
 "nbformat_minor": 2
}
